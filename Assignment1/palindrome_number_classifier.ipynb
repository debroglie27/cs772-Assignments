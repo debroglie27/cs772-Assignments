{
  "nbformat": 4,
  "nbformat_minor": 0,
  "metadata": {
    "colab": {
      "provenance": []
    },
    "kernelspec": {
      "name": "python3",
      "display_name": "Python 3"
    },
    "language_info": {
      "name": "python"
    }
  },
  "cells": [
    {
      "cell_type": "code",
      "execution_count": 1,
      "metadata": {
        "id": "369iAmlx7nME"
      },
      "outputs": [],
      "source": [
        "#Import required libraries\n",
        "import numpy as np\n",
        "import pandas as pd"
      ]
    },
    {
      "cell_type": "code",
      "source": [
        "# Load dataset\n",
        "df = pd.read_csv(\"/content/palindrome_data.csv\")\n",
        "df.shape[1]"
      ],
      "metadata": {
        "colab": {
          "base_uri": "https://localhost:8080/"
        },
        "id": "YnzaLkzkKxDc",
        "outputId": "6fdb7580-7843-49a9-bd2d-94745a471038"
      },
      "execution_count": 2,
      "outputs": [
        {
          "output_type": "execute_result",
          "data": {
            "text/plain": [
              "11"
            ]
          },
          "metadata": {},
          "execution_count": 2
        }
      ]
    },
    {
      "cell_type": "code",
      "source": [
        "df.head()"
      ],
      "metadata": {
        "colab": {
          "base_uri": "https://localhost:8080/",
          "height": 206
        },
        "id": "zEygB-j9LGWr",
        "outputId": "026e9a5d-2843-4b5e-d8da-690336767b24"
      },
      "execution_count": 3,
      "outputs": [
        {
          "output_type": "execute_result",
          "data": {
            "text/plain": [
              "   x0  x1  x2  x3  x4  x5  x6  x7  x8  x9  y\n",
              "0   0   0   0   0   0   0   0   0   0   0  1\n",
              "1   1   0   0   0   0   0   0   0   0   0  0\n",
              "2   0   1   0   0   0   0   0   0   0   0  0\n",
              "3   1   1   0   0   0   0   0   0   0   0  0\n",
              "4   0   0   1   0   0   0   0   0   0   0  0"
            ],
            "text/html": [
              "\n",
              "  <div id=\"df-1eea5400-b1a5-4980-8258-1a6c07d3b048\" class=\"colab-df-container\">\n",
              "    <div>\n",
              "<style scoped>\n",
              "    .dataframe tbody tr th:only-of-type {\n",
              "        vertical-align: middle;\n",
              "    }\n",
              "\n",
              "    .dataframe tbody tr th {\n",
              "        vertical-align: top;\n",
              "    }\n",
              "\n",
              "    .dataframe thead th {\n",
              "        text-align: right;\n",
              "    }\n",
              "</style>\n",
              "<table border=\"1\" class=\"dataframe\">\n",
              "  <thead>\n",
              "    <tr style=\"text-align: right;\">\n",
              "      <th></th>\n",
              "      <th>x0</th>\n",
              "      <th>x1</th>\n",
              "      <th>x2</th>\n",
              "      <th>x3</th>\n",
              "      <th>x4</th>\n",
              "      <th>x5</th>\n",
              "      <th>x6</th>\n",
              "      <th>x7</th>\n",
              "      <th>x8</th>\n",
              "      <th>x9</th>\n",
              "      <th>y</th>\n",
              "    </tr>\n",
              "  </thead>\n",
              "  <tbody>\n",
              "    <tr>\n",
              "      <th>0</th>\n",
              "      <td>0</td>\n",
              "      <td>0</td>\n",
              "      <td>0</td>\n",
              "      <td>0</td>\n",
              "      <td>0</td>\n",
              "      <td>0</td>\n",
              "      <td>0</td>\n",
              "      <td>0</td>\n",
              "      <td>0</td>\n",
              "      <td>0</td>\n",
              "      <td>1</td>\n",
              "    </tr>\n",
              "    <tr>\n",
              "      <th>1</th>\n",
              "      <td>1</td>\n",
              "      <td>0</td>\n",
              "      <td>0</td>\n",
              "      <td>0</td>\n",
              "      <td>0</td>\n",
              "      <td>0</td>\n",
              "      <td>0</td>\n",
              "      <td>0</td>\n",
              "      <td>0</td>\n",
              "      <td>0</td>\n",
              "      <td>0</td>\n",
              "    </tr>\n",
              "    <tr>\n",
              "      <th>2</th>\n",
              "      <td>0</td>\n",
              "      <td>1</td>\n",
              "      <td>0</td>\n",
              "      <td>0</td>\n",
              "      <td>0</td>\n",
              "      <td>0</td>\n",
              "      <td>0</td>\n",
              "      <td>0</td>\n",
              "      <td>0</td>\n",
              "      <td>0</td>\n",
              "      <td>0</td>\n",
              "    </tr>\n",
              "    <tr>\n",
              "      <th>3</th>\n",
              "      <td>1</td>\n",
              "      <td>1</td>\n",
              "      <td>0</td>\n",
              "      <td>0</td>\n",
              "      <td>0</td>\n",
              "      <td>0</td>\n",
              "      <td>0</td>\n",
              "      <td>0</td>\n",
              "      <td>0</td>\n",
              "      <td>0</td>\n",
              "      <td>0</td>\n",
              "    </tr>\n",
              "    <tr>\n",
              "      <th>4</th>\n",
              "      <td>0</td>\n",
              "      <td>0</td>\n",
              "      <td>1</td>\n",
              "      <td>0</td>\n",
              "      <td>0</td>\n",
              "      <td>0</td>\n",
              "      <td>0</td>\n",
              "      <td>0</td>\n",
              "      <td>0</td>\n",
              "      <td>0</td>\n",
              "      <td>0</td>\n",
              "    </tr>\n",
              "  </tbody>\n",
              "</table>\n",
              "</div>\n",
              "    <div class=\"colab-df-buttons\">\n",
              "\n",
              "  <div class=\"colab-df-container\">\n",
              "    <button class=\"colab-df-convert\" onclick=\"convertToInteractive('df-1eea5400-b1a5-4980-8258-1a6c07d3b048')\"\n",
              "            title=\"Convert this dataframe to an interactive table.\"\n",
              "            style=\"display:none;\">\n",
              "\n",
              "  <svg xmlns=\"http://www.w3.org/2000/svg\" height=\"24px\" viewBox=\"0 -960 960 960\">\n",
              "    <path d=\"M120-120v-720h720v720H120Zm60-500h600v-160H180v160Zm220 220h160v-160H400v160Zm0 220h160v-160H400v160ZM180-400h160v-160H180v160Zm440 0h160v-160H620v160ZM180-180h160v-160H180v160Zm440 0h160v-160H620v160Z\"/>\n",
              "  </svg>\n",
              "    </button>\n",
              "\n",
              "  <style>\n",
              "    .colab-df-container {\n",
              "      display:flex;\n",
              "      gap: 12px;\n",
              "    }\n",
              "\n",
              "    .colab-df-convert {\n",
              "      background-color: #E8F0FE;\n",
              "      border: none;\n",
              "      border-radius: 50%;\n",
              "      cursor: pointer;\n",
              "      display: none;\n",
              "      fill: #1967D2;\n",
              "      height: 32px;\n",
              "      padding: 0 0 0 0;\n",
              "      width: 32px;\n",
              "    }\n",
              "\n",
              "    .colab-df-convert:hover {\n",
              "      background-color: #E2EBFA;\n",
              "      box-shadow: 0px 1px 2px rgba(60, 64, 67, 0.3), 0px 1px 3px 1px rgba(60, 64, 67, 0.15);\n",
              "      fill: #174EA6;\n",
              "    }\n",
              "\n",
              "    .colab-df-buttons div {\n",
              "      margin-bottom: 4px;\n",
              "    }\n",
              "\n",
              "    [theme=dark] .colab-df-convert {\n",
              "      background-color: #3B4455;\n",
              "      fill: #D2E3FC;\n",
              "    }\n",
              "\n",
              "    [theme=dark] .colab-df-convert:hover {\n",
              "      background-color: #434B5C;\n",
              "      box-shadow: 0px 1px 3px 1px rgba(0, 0, 0, 0.15);\n",
              "      filter: drop-shadow(0px 1px 2px rgba(0, 0, 0, 0.3));\n",
              "      fill: #FFFFFF;\n",
              "    }\n",
              "  </style>\n",
              "\n",
              "    <script>\n",
              "      const buttonEl =\n",
              "        document.querySelector('#df-1eea5400-b1a5-4980-8258-1a6c07d3b048 button.colab-df-convert');\n",
              "      buttonEl.style.display =\n",
              "        google.colab.kernel.accessAllowed ? 'block' : 'none';\n",
              "\n",
              "      async function convertToInteractive(key) {\n",
              "        const element = document.querySelector('#df-1eea5400-b1a5-4980-8258-1a6c07d3b048');\n",
              "        const dataTable =\n",
              "          await google.colab.kernel.invokeFunction('convertToInteractive',\n",
              "                                                    [key], {});\n",
              "        if (!dataTable) return;\n",
              "\n",
              "        const docLinkHtml = 'Like what you see? Visit the ' +\n",
              "          '<a target=\"_blank\" href=https://colab.research.google.com/notebooks/data_table.ipynb>data table notebook</a>'\n",
              "          + ' to learn more about interactive tables.';\n",
              "        element.innerHTML = '';\n",
              "        dataTable['output_type'] = 'display_data';\n",
              "        await google.colab.output.renderOutput(dataTable, element);\n",
              "        const docLink = document.createElement('div');\n",
              "        docLink.innerHTML = docLinkHtml;\n",
              "        element.appendChild(docLink);\n",
              "      }\n",
              "    </script>\n",
              "  </div>\n",
              "\n",
              "\n",
              "<div id=\"df-a239b0ff-0ae3-4ddd-8aea-647457fe9723\">\n",
              "  <button class=\"colab-df-quickchart\" onclick=\"quickchart('df-a239b0ff-0ae3-4ddd-8aea-647457fe9723')\"\n",
              "            title=\"Suggest charts\"\n",
              "            style=\"display:none;\">\n",
              "\n",
              "<svg xmlns=\"http://www.w3.org/2000/svg\" height=\"24px\"viewBox=\"0 0 24 24\"\n",
              "     width=\"24px\">\n",
              "    <g>\n",
              "        <path d=\"M19 3H5c-1.1 0-2 .9-2 2v14c0 1.1.9 2 2 2h14c1.1 0 2-.9 2-2V5c0-1.1-.9-2-2-2zM9 17H7v-7h2v7zm4 0h-2V7h2v10zm4 0h-2v-4h2v4z\"/>\n",
              "    </g>\n",
              "</svg>\n",
              "  </button>\n",
              "\n",
              "<style>\n",
              "  .colab-df-quickchart {\n",
              "      --bg-color: #E8F0FE;\n",
              "      --fill-color: #1967D2;\n",
              "      --hover-bg-color: #E2EBFA;\n",
              "      --hover-fill-color: #174EA6;\n",
              "      --disabled-fill-color: #AAA;\n",
              "      --disabled-bg-color: #DDD;\n",
              "  }\n",
              "\n",
              "  [theme=dark] .colab-df-quickchart {\n",
              "      --bg-color: #3B4455;\n",
              "      --fill-color: #D2E3FC;\n",
              "      --hover-bg-color: #434B5C;\n",
              "      --hover-fill-color: #FFFFFF;\n",
              "      --disabled-bg-color: #3B4455;\n",
              "      --disabled-fill-color: #666;\n",
              "  }\n",
              "\n",
              "  .colab-df-quickchart {\n",
              "    background-color: var(--bg-color);\n",
              "    border: none;\n",
              "    border-radius: 50%;\n",
              "    cursor: pointer;\n",
              "    display: none;\n",
              "    fill: var(--fill-color);\n",
              "    height: 32px;\n",
              "    padding: 0;\n",
              "    width: 32px;\n",
              "  }\n",
              "\n",
              "  .colab-df-quickchart:hover {\n",
              "    background-color: var(--hover-bg-color);\n",
              "    box-shadow: 0 1px 2px rgba(60, 64, 67, 0.3), 0 1px 3px 1px rgba(60, 64, 67, 0.15);\n",
              "    fill: var(--button-hover-fill-color);\n",
              "  }\n",
              "\n",
              "  .colab-df-quickchart-complete:disabled,\n",
              "  .colab-df-quickchart-complete:disabled:hover {\n",
              "    background-color: var(--disabled-bg-color);\n",
              "    fill: var(--disabled-fill-color);\n",
              "    box-shadow: none;\n",
              "  }\n",
              "\n",
              "  .colab-df-spinner {\n",
              "    border: 2px solid var(--fill-color);\n",
              "    border-color: transparent;\n",
              "    border-bottom-color: var(--fill-color);\n",
              "    animation:\n",
              "      spin 1s steps(1) infinite;\n",
              "  }\n",
              "\n",
              "  @keyframes spin {\n",
              "    0% {\n",
              "      border-color: transparent;\n",
              "      border-bottom-color: var(--fill-color);\n",
              "      border-left-color: var(--fill-color);\n",
              "    }\n",
              "    20% {\n",
              "      border-color: transparent;\n",
              "      border-left-color: var(--fill-color);\n",
              "      border-top-color: var(--fill-color);\n",
              "    }\n",
              "    30% {\n",
              "      border-color: transparent;\n",
              "      border-left-color: var(--fill-color);\n",
              "      border-top-color: var(--fill-color);\n",
              "      border-right-color: var(--fill-color);\n",
              "    }\n",
              "    40% {\n",
              "      border-color: transparent;\n",
              "      border-right-color: var(--fill-color);\n",
              "      border-top-color: var(--fill-color);\n",
              "    }\n",
              "    60% {\n",
              "      border-color: transparent;\n",
              "      border-right-color: var(--fill-color);\n",
              "    }\n",
              "    80% {\n",
              "      border-color: transparent;\n",
              "      border-right-color: var(--fill-color);\n",
              "      border-bottom-color: var(--fill-color);\n",
              "    }\n",
              "    90% {\n",
              "      border-color: transparent;\n",
              "      border-bottom-color: var(--fill-color);\n",
              "    }\n",
              "  }\n",
              "</style>\n",
              "\n",
              "  <script>\n",
              "    async function quickchart(key) {\n",
              "      const quickchartButtonEl =\n",
              "        document.querySelector('#' + key + ' button');\n",
              "      quickchartButtonEl.disabled = true;  // To prevent multiple clicks.\n",
              "      quickchartButtonEl.classList.add('colab-df-spinner');\n",
              "      try {\n",
              "        const charts = await google.colab.kernel.invokeFunction(\n",
              "            'suggestCharts', [key], {});\n",
              "      } catch (error) {\n",
              "        console.error('Error during call to suggestCharts:', error);\n",
              "      }\n",
              "      quickchartButtonEl.classList.remove('colab-df-spinner');\n",
              "      quickchartButtonEl.classList.add('colab-df-quickchart-complete');\n",
              "    }\n",
              "    (() => {\n",
              "      let quickchartButtonEl =\n",
              "        document.querySelector('#df-a239b0ff-0ae3-4ddd-8aea-647457fe9723 button');\n",
              "      quickchartButtonEl.style.display =\n",
              "        google.colab.kernel.accessAllowed ? 'block' : 'none';\n",
              "    })();\n",
              "  </script>\n",
              "</div>\n",
              "\n",
              "    </div>\n",
              "  </div>\n"
            ]
          },
          "metadata": {},
          "execution_count": 3
        }
      ]
    },
    {
      "cell_type": "code",
      "source": [
        "# Convert dataframe into numpy array\n",
        "x = df.iloc[:,:df.shape[1]-1].to_numpy()\n",
        "y = df.iloc[:,-1].to_numpy()"
      ],
      "metadata": {
        "id": "CD16QgO0LHi2"
      },
      "execution_count": 25,
      "outputs": []
    },
    {
      "cell_type": "code",
      "source": [
        "x.shape, y.shape"
      ],
      "metadata": {
        "colab": {
          "base_uri": "https://localhost:8080/"
        },
        "id": "hoqDU4inM29O",
        "outputId": "a798f1a1-7068-41c6-dd99-e5d8f3721f83"
      },
      "execution_count": 26,
      "outputs": [
        {
          "output_type": "execute_result",
          "data": {
            "text/plain": [
              "((1024, 10), (1024,))"
            ]
          },
          "metadata": {},
          "execution_count": 26
        }
      ]
    },
    {
      "cell_type": "markdown",
      "source": [
        "## Define the neural network architecture"
      ],
      "metadata": {
        "id": "MnmrwvKPNlv6"
      }
    },
    {
      "cell_type": "code",
      "source": [
        "# Initialize parameters\n",
        "def initialize_parameters(input_size, output_size, hidden_units):\n",
        "  np.random.seed(0)\n",
        "  # if you use the same seed value, you will get the same sequence of random numbers every time you run the program.\n",
        "  # Parameters dict will contain all the parameters of FFNN.\n",
        "  parameters = {}\n",
        "\n",
        "  # Initialize parameters of hidden layer.\n",
        "  parameters['w0'] = np.random.randn(hidden_units, input_size)\n",
        "  parameters['b0'] = np.zeros(hidden_units)\n",
        "\n",
        "  # Initialize parameters for hidden layer.\n",
        "  parameters['w1'] = np.random.randn(output_size, hidden_units)\n",
        "  parameters['b1'] = np.zeros(output_size)\n",
        "\n",
        "  return parameters"
      ],
      "metadata": {
        "id": "qB3GQZvrM4D8"
      },
      "execution_count": 27,
      "outputs": []
    },
    {
      "cell_type": "code",
      "source": [
        "input_size = 10\n",
        "output_size = 1\n",
        "hidden_units = 5\n",
        "parameters = initialize_parameters(input_size, output_size, hidden_units)\n",
        "parameters"
      ],
      "metadata": {
        "colab": {
          "base_uri": "https://localhost:8080/"
        },
        "id": "yGwrgFsUN68t",
        "outputId": "2d1fae1f-d5a9-4ef5-eaee-7579742dba9d"
      },
      "execution_count": 28,
      "outputs": [
        {
          "output_type": "execute_result",
          "data": {
            "text/plain": [
              "{'w0': array([[ 1.76405235,  0.40015721,  0.97873798,  2.2408932 ,  1.86755799,\n",
              "         -0.97727788,  0.95008842, -0.15135721, -0.10321885,  0.4105985 ],\n",
              "        [ 0.14404357,  1.45427351,  0.76103773,  0.12167502,  0.44386323,\n",
              "          0.33367433,  1.49407907, -0.20515826,  0.3130677 , -0.85409574],\n",
              "        [-2.55298982,  0.6536186 ,  0.8644362 , -0.74216502,  2.26975462,\n",
              "         -1.45436567,  0.04575852, -0.18718385,  1.53277921,  1.46935877],\n",
              "        [ 0.15494743,  0.37816252, -0.88778575, -1.98079647, -0.34791215,\n",
              "          0.15634897,  1.23029068,  1.20237985, -0.38732682, -0.30230275],\n",
              "        [-1.04855297, -1.42001794, -1.70627019,  1.9507754 , -0.50965218,\n",
              "         -0.4380743 , -1.25279536,  0.77749036, -1.61389785, -0.21274028]]),\n",
              " 'b0': array([0., 0., 0., 0., 0.]),\n",
              " 'w1': array([[-0.89546656,  0.3869025 , -0.51080514, -1.18063218, -0.02818223]]),\n",
              " 'b1': array([0.])}"
            ]
          },
          "metadata": {},
          "execution_count": 28
        }
      ]
    },
    {
      "cell_type": "markdown",
      "source": [
        "Activation Function"
      ],
      "metadata": {
        "id": "ZY2UcqCeS6fm"
      }
    },
    {
      "cell_type": "code",
      "source": [
        "# Sigmoid activation function\n",
        "def sigmoid(x):\n",
        "  return 1/(1+np.exp(-x))\n",
        "\n",
        "# Relu activation function\n",
        "def relu(x):\n",
        "  x[x < 0] = 0\n",
        "  return x"
      ],
      "metadata": {
        "id": "0fXPABmWS_GG"
      },
      "execution_count": 29,
      "outputs": []
    },
    {
      "cell_type": "code",
      "source": [
        "# Get number of rows in the training data.\n",
        "n_rows = x.shape[0]\n",
        "train_split_size = int(n_rows*0.8)\n",
        "test_split_size = n_rows-train_split_size\n",
        "\n",
        "# Generate 'split size' random indices without replacement to select training data.\n",
        "train_indices = np.random.choice(n_rows, train_split_size, replace=False)\n",
        "\n",
        "# np.arange(start, stop, step, dtype) to generate evenly spaced values whithin given interval.\n",
        "# np.setdiff1d(ar1, ar2, assume_unique=False) to find set difference between to positive 1d arrays.\n",
        "test_indices = np.setdiff1d(np.arange(n_rows), train_indices)\n",
        "\n",
        "# Get 'test_indices' which are complement of those of 'train_indices'.\n",
        "# Select rows from x and y using train_indices and test indices.\n",
        "X_train = x[train_indices]\n",
        "y_train = y[train_indices]\n",
        "X_test = x[test_indices]\n",
        "y_test = y[test_indices]\n",
        "X_train.shape, y_train.shape, X_test.shape, y_test.shape"
      ],
      "metadata": {
        "colab": {
          "base_uri": "https://localhost:8080/"
        },
        "id": "ZdxpYfqZUw-H",
        "outputId": "3f4909f7-b84f-44a9-d587-bfb84a2bc007"
      },
      "execution_count": 30,
      "outputs": [
        {
          "output_type": "execute_result",
          "data": {
            "text/plain": [
              "((819, 10), (819,), (205, 10), (205,))"
            ]
          },
          "metadata": {},
          "execution_count": 30
        }
      ]
    },
    {
      "cell_type": "code",
      "source": [
        "parameters['w0'].shape, parameters['b0'].shape, parameters['w1'].shape, parameters['b1'].shape"
      ],
      "metadata": {
        "id": "77gzKIbZUHr8",
        "colab": {
          "base_uri": "https://localhost:8080/"
        },
        "outputId": "98e6341a-fedc-4436-c3fa-4d919e959102"
      },
      "execution_count": 41,
      "outputs": [
        {
          "output_type": "execute_result",
          "data": {
            "text/plain": [
              "((5, 10), (5,), (1, 5), (1,))"
            ]
          },
          "metadata": {},
          "execution_count": 41
        }
      ]
    },
    {
      "cell_type": "code",
      "source": [
        "# Forward propagation\n",
        "def forward_propagation(X, parameters):\n",
        "  # Retrive the parameters from the dictionary\n",
        "  w0, b0, w1, b1 = parameters['w0'], parameters['b0'], parameters['w1'], parameters['b1']\n",
        "\n",
        "  # Calculate the net input at hidden layer\n",
        "  Z0 = np.dot(w0, X.T)\n",
        "  # Calculate the activation at hidden layer\n",
        "  A0 = sigmoid(Z0)\n",
        "\n",
        "  # Calculate the net input at output layer\n",
        "  Z1 = np.dot(w1, A0)\n",
        "  # Calculate the activation and output layer\n",
        "  A1 = sigmoid(Z1)\n",
        "\n",
        "  cache = {'Z0' : Z0, 'A0' : A0, 'Z1' : Z1, 'A1' : A1}\n",
        "  return cache, A1"
      ],
      "metadata": {
        "id": "oi4OeqSxLvab"
      },
      "execution_count": 70,
      "outputs": []
    },
    {
      "cell_type": "code",
      "source": [
        "cache, y_hat = forward_propagation(X_train, parameters)"
      ],
      "metadata": {
        "id": "YvTOP72bZhm3"
      },
      "execution_count": 39,
      "outputs": []
    },
    {
      "cell_type": "code",
      "source": [
        "cache['A0'].shape, cache['Z0'].shape, cache['A1'].shape, cache['Z1'].shape"
      ],
      "metadata": {
        "colab": {
          "base_uri": "https://localhost:8080/"
        },
        "id": "KmYiF5ayyL-w",
        "outputId": "446f4834-42bf-4ffe-b587-5669d55542a8"
      },
      "execution_count": 40,
      "outputs": [
        {
          "output_type": "execute_result",
          "data": {
            "text/plain": [
              "((5, 819), (5, 819), (1, 819), (1, 819))"
            ]
          },
          "metadata": {},
          "execution_count": 40
        }
      ]
    },
    {
      "cell_type": "markdown",
      "source": [
        "## Calculate the cross-entropy loss"
      ],
      "metadata": {
        "id": "y_KjtectbLXV"
      }
    },
    {
      "cell_type": "code",
      "source": [
        "# Cross-entropy loss\n",
        "def cross_entropy_loss(y_hat, y):\n",
        "  n = y.shape[0]\n",
        "  loss = -(1/n)*np.sum(y*np.log(y_hat)+(1-y)*np.log(1-y_hat))\n",
        "  return loss"
      ],
      "metadata": {
        "id": "7haw4rsjbJgY"
      },
      "execution_count": 112,
      "outputs": []
    },
    {
      "cell_type": "code",
      "source": [
        "training_loss = cross_entropy_loss(y_hat, y_train)\n",
        "training_loss"
      ],
      "metadata": {
        "colab": {
          "base_uri": "https://localhost:8080/"
        },
        "id": "O5rGe8x5Zu0S",
        "outputId": "ba589052-2ce5-46f9-a9db-68e75d00f62d"
      },
      "execution_count": 38,
      "outputs": [
        {
          "output_type": "execute_result",
          "data": {
            "text/plain": [
              "0.280809648227767"
            ]
          },
          "metadata": {},
          "execution_count": 38
        }
      ]
    },
    {
      "cell_type": "markdown",
      "source": [
        "## Backpropagation"
      ],
      "metadata": {
        "id": "LhSWjfZkcgaP"
      }
    },
    {
      "cell_type": "code",
      "source": [
        "# Implement the backpropagation\n",
        "def back_propagation(cache, parameters, X, y):\n",
        "  w0, b0, w1, b1 = parameters['w0'], parameters['b0'], parameters['w1'], parameters['b1']\n",
        "\n",
        "  # Retrive intermidiate value from cache\n",
        "  Z0, A0, Z1, A1 = cache['Z0'], cache['A0'], cache['Z1'], cache['A1']\n",
        "\n",
        "  # Compute the intermidiate derivative dZ1\n",
        "  dZ1 = -(y-A1) # Dim: 1 x 1000\n",
        "\n",
        "  # Compute the derivative of weights and bias of output layer\n",
        "  dW1 = np.dot(dZ1, A0.T) # Dim: [1 x 1000].[1000x5] = [1x5]\n",
        "  db1 = np.sum(dZ1, axis=1, keepdims=True) # Dim: 1x1\n",
        "\n",
        "  # Compute the intermidiate derivative dA0 and dZ0\n",
        "  dA0 = np.dot(parameters['w1'].T, dZ1) # Dim: [5x1][1x1000].[1x5] = [5x1000]\n",
        "  dZ0 = dA0 *A0*(1-A0) # Dim: [5x1000]\n",
        "\n",
        "  # Compute the derivative of weights and bias of input layer\n",
        "  dW0 = np.dot(dZ0, X)\n",
        "  db0 = np.sum(dZ0, axis=1, keepdims=True)\n",
        "\n",
        "  gradients = {'dW1' : dW1, 'db1' : db1, 'dW0' : dW0, 'db0' : db0}\n",
        "\n",
        "  return gradients"
      ],
      "metadata": {
        "id": "p8oxqEv6a_K7"
      },
      "execution_count": 60,
      "outputs": []
    },
    {
      "cell_type": "code",
      "source": [
        "# Update weights\n",
        "def update_weights(gradients, parameters, learning_rate):\n",
        "  # Retrive the gradients\n",
        "  dW0, db0, dW1, db1 = gradients['dW0'], gradients['db0'], gradients['dW1'], gradients['db1']\n",
        "\n",
        "  # Retrive the parameters\n",
        "  w0, b0, w1, b1 = parameters['w0'], parameters['b0'], parameters['w1'], parameters['b1']\n",
        "\n",
        "  #Update weights\n",
        "  w0 = w0 - learning_rate*dW0\n",
        "  b0 = b0 - learning_rate*db0\n",
        "  w1 = w1 - learning_rate*dW1\n",
        "  b1 = b1 - learning_rate*db1\n",
        "\n",
        "  parameters = {'w0': w0, 'b0': b0, 'w1': w1, 'b1':b1}\n",
        "  return parameters"
      ],
      "metadata": {
        "id": "F0dig7prHuGR"
      },
      "execution_count": 61,
      "outputs": []
    },
    {
      "cell_type": "markdown",
      "source": [
        "## Training the neural networks"
      ],
      "metadata": {
        "id": "UkmwV0m3JXio"
      }
    },
    {
      "cell_type": "code",
      "source": [
        "# Train neural network\n",
        "def train(X, y, hidden_layer_size, epoch, learning_rate):\n",
        "  # Initialization the weights and biases\n",
        "  parameters = initialize_parameters(X.shape[1], 1, hidden_layer_size)\n",
        "  for i in range(epoch):\n",
        "    # Forward propagation\n",
        "    cache, A1 = forward_propagation(X, parameters)\n",
        "\n",
        "    # calculate cross_entropy_loss\n",
        "    loss = cross_entropy_loss(A1, y)\n",
        "\n",
        "    # Backward Propagation\n",
        "    gradients = back_propagation(cache, parameters, X, y)\n",
        "\n",
        "    # Update parameters\n",
        "    parameters = update_weights(gradients, parameters, learning_rate)\n",
        "\n",
        "    if i%100 == 0:\n",
        "      print(f'Iteration {i}, loss: {loss}')\n",
        "  return parameters"
      ],
      "metadata": {
        "id": "JYGCWv9xJOLS"
      },
      "execution_count": 108,
      "outputs": []
    },
    {
      "cell_type": "code",
      "source": [
        "parameters = train(X_train, y_train, 10, 1000, 0.001)"
      ],
      "metadata": {
        "colab": {
          "base_uri": "https://localhost:8080/"
        },
        "id": "b9TtuG90PIbJ",
        "outputId": "cd9ce7be-abb0-49c1-9da3-2cfdcc458754"
      },
      "execution_count": 115,
      "outputs": [
        {
          "output_type": "stream",
          "name": "stdout",
          "text": [
            "Iteration 0, loss: 2.9440580195023003\n",
            "(1, 819), (819,)\n",
            "Iteration 100, loss: 0.14328778786446483\n",
            "(1, 819), (819,)\n",
            "Iteration 200, loss: 0.13944214231288468\n",
            "(1, 819), (819,)\n",
            "Iteration 300, loss: 0.13702101106397768\n",
            "(1, 819), (819,)\n",
            "Iteration 400, loss: 0.13518019992429586\n",
            "(1, 819), (819,)\n",
            "Iteration 500, loss: 0.13359053386001496\n",
            "(1, 819), (819,)\n",
            "Iteration 600, loss: 0.13210216240631623\n",
            "(1, 819), (819,)\n",
            "Iteration 700, loss: 0.1306352853685331\n",
            "(1, 819), (819,)\n",
            "Iteration 800, loss: 0.12913979453169028\n",
            "(1, 819), (819,)\n",
            "Iteration 900, loss: 0.1275784931794383\n",
            "(1, 819), (819,)\n"
          ]
        }
      ]
    },
    {
      "cell_type": "code",
      "source": [
        "# predict the labels for new data\n",
        "def predict(X, parameters):\n",
        "    _, A2 = forward_propagation(X, parameters)\n",
        "    A2[A2 > 0.5] = 1\n",
        "    A2[A2 != 1] = 0\n",
        "    return predictions"
      ],
      "metadata": {
        "id": "Lu0Kv0M2P6x2"
      },
      "execution_count": 116,
      "outputs": []
    },
    {
      "cell_type": "code",
      "source": [
        "predictions = predict(X_test, parameters)"
      ],
      "metadata": {
        "colab": {
          "base_uri": "https://localhost:8080/"
        },
        "id": "UVQEOqqBZ2Gx",
        "outputId": "cec78495-f302-4409-8054-e1e1dd5129c7"
      },
      "execution_count": 117,
      "outputs": [
        {
          "output_type": "stream",
          "name": "stdout",
          "text": [
            "(1, 205)\n"
          ]
        }
      ]
    },
    {
      "cell_type": "code",
      "source": [
        "y_test = y_test.reshape(1,y_test.shape[0])\n",
        "y_test.shape"
      ],
      "metadata": {
        "colab": {
          "base_uri": "https://localhost:8080/"
        },
        "id": "n8q6F8UPcqIA",
        "outputId": "f6412519-af2c-4908-eda7-7508deebed54"
      },
      "execution_count": 119,
      "outputs": [
        {
          "output_type": "execute_result",
          "data": {
            "text/plain": [
              "(1, 205)"
            ]
          },
          "metadata": {},
          "execution_count": 119
        }
      ]
    },
    {
      "cell_type": "code",
      "source": [
        "correct_predictions = np.sum(predictions == y_test)\n",
        "accuracy = correct_predictions/predictions.shape[1]\n",
        "accuracy"
      ],
      "metadata": {
        "colab": {
          "base_uri": "https://localhost:8080/"
        },
        "id": "o2ptOCCCZ6J6",
        "outputId": "658b7754-c295-43d9-c502-bcc00dd2518e"
      },
      "execution_count": 125,
      "outputs": [
        {
          "output_type": "execute_result",
          "data": {
            "text/plain": [
              "0.975609756097561"
            ]
          },
          "metadata": {},
          "execution_count": 125
        }
      ]
    }
  ]
}